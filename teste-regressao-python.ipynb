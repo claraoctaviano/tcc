{
 "cells": [
  {
   "cell_type": "code",
   "execution_count": 1,
   "metadata": {},
   "outputs": [],
   "source": [
    "import pandas as pd\n",
    "import numpy as np\n",
    "from matplotlib import pyplot as plt\n",
    "import seaborn as sns\n",
    "from sklearn.linear_model import LinearRegression\n",
    "from sklearn.model_selection import train_test_split, cross_val_score\n",
    "from sklearn import metrics"
   ]
  },
  {
   "cell_type": "code",
   "execution_count": 2,
   "metadata": {},
   "outputs": [
    {
     "data": {
      "text/html": [
       "<div>\n",
       "<style scoped>\n",
       "    .dataframe tbody tr th:only-of-type {\n",
       "        vertical-align: middle;\n",
       "    }\n",
       "\n",
       "    .dataframe tbody tr th {\n",
       "        vertical-align: top;\n",
       "    }\n",
       "\n",
       "    .dataframe thead th {\n",
       "        text-align: right;\n",
       "    }\n",
       "</style>\n",
       "<table border=\"1\" class=\"dataframe\">\n",
       "  <thead>\n",
       "    <tr style=\"text-align: right;\">\n",
       "      <th></th>\n",
       "      <th>User</th>\n",
       "      <th>Date</th>\n",
       "      <th>Ano</th>\n",
       "      <th>Likes</th>\n",
       "      <th>Retweets</th>\n",
       "      <th>Quotes</th>\n",
       "      <th>Replies</th>\n",
       "      <th>Total_Engajamento</th>\n",
       "      <th>Tweet</th>\n",
       "      <th>text_sem_stopwords</th>\n",
       "      <th>tokenized</th>\n",
       "      <th>text_string</th>\n",
       "      <th>Qtd_Caracteres</th>\n",
       "      <th>Politica</th>\n",
       "      <th>Saude</th>\n",
       "      <th>Educacao</th>\n",
       "      <th>Seguranca</th>\n",
       "      <th>Meio_Ambiente</th>\n",
       "      <th>Economia</th>\n",
       "      <th>Categoria_Predominante</th>\n",
       "    </tr>\n",
       "  </thead>\n",
       "  <tbody>\n",
       "    <tr>\n",
       "      <th>0</th>\n",
       "      <td>fatooufake</td>\n",
       "      <td>202208</td>\n",
       "      <td>2022</td>\n",
       "      <td>4</td>\n",
       "      <td>0</td>\n",
       "      <td>0</td>\n",
       "      <td>2</td>\n",
       "      <td>8</td>\n",
       "      <td>candidato à reeleição pelo pl participou, nest...</td>\n",
       "      <td>candidato reeleicao pl participou, nesta quart...</td>\n",
       "      <td>['candidato', 'reeleicao', 'pl', 'participou',...</td>\n",
       "      <td>candidato reeleicao participou nesta quarta-fe...</td>\n",
       "      <td>141</td>\n",
       "      <td>4</td>\n",
       "      <td>0</td>\n",
       "      <td>0</td>\n",
       "      <td>0</td>\n",
       "      <td>0</td>\n",
       "      <td>0</td>\n",
       "      <td>POLITICA</td>\n",
       "    </tr>\n",
       "    <tr>\n",
       "      <th>1</th>\n",
       "      <td>fatooufake</td>\n",
       "      <td>202208</td>\n",
       "      <td>2022</td>\n",
       "      <td>7</td>\n",
       "      <td>0</td>\n",
       "      <td>0</td>\n",
       "      <td>1</td>\n",
       "      <td>9</td>\n",
       "      <td>candidato do psdb ao governo do df participou ...</td>\n",
       "      <td>candidato psdb governo df participou serie ent...</td>\n",
       "      <td>['candidato', 'psdb', 'governo', 'df', 'partic...</td>\n",
       "      <td>candidato psdb governo participou serie entrev...</td>\n",
       "      <td>124</td>\n",
       "      <td>3</td>\n",
       "      <td>0</td>\n",
       "      <td>0</td>\n",
       "      <td>0</td>\n",
       "      <td>0</td>\n",
       "      <td>0</td>\n",
       "      <td>POLITICA</td>\n",
       "    </tr>\n",
       "    <tr>\n",
       "      <th>2</th>\n",
       "      <td>fatooufake</td>\n",
       "      <td>202208</td>\n",
       "      <td>2022</td>\n",
       "      <td>7</td>\n",
       "      <td>1</td>\n",
       "      <td>0</td>\n",
       "      <td>1</td>\n",
       "      <td>10</td>\n",
       "      <td>a entrevista foi transmitida ao vivo pela rádi...</td>\n",
       "      <td>entrevista transmitida vivo radio sites redes ...</td>\n",
       "      <td>['entrevista', 'transmitida', 'vivo', 'radio',...</td>\n",
       "      <td>entrevista transmitida vivo radio sites redes ...</td>\n",
       "      <td>108</td>\n",
       "      <td>1</td>\n",
       "      <td>0</td>\n",
       "      <td>0</td>\n",
       "      <td>0</td>\n",
       "      <td>0</td>\n",
       "      <td>0</td>\n",
       "      <td>POLITICA</td>\n",
       "    </tr>\n",
       "    <tr>\n",
       "      <th>3</th>\n",
       "      <td>fatooufake</td>\n",
       "      <td>202208</td>\n",
       "      <td>2022</td>\n",
       "      <td>7</td>\n",
       "      <td>0</td>\n",
       "      <td>0</td>\n",
       "      <td>1</td>\n",
       "      <td>9</td>\n",
       "      <td>frases foram ditas em redes sociais, no horári...</td>\n",
       "      <td>frases ditas redes sociais, horario eleitoral ...</td>\n",
       "      <td>['frases', 'ditas', 'redes', 'sociais', ',', '...</td>\n",
       "      <td>frases ditas redes sociais horario eleitoral e...</td>\n",
       "      <td>112</td>\n",
       "      <td>2</td>\n",
       "      <td>0</td>\n",
       "      <td>0</td>\n",
       "      <td>0</td>\n",
       "      <td>0</td>\n",
       "      <td>0</td>\n",
       "      <td>POLITICA</td>\n",
       "    </tr>\n",
       "    <tr>\n",
       "      <th>4</th>\n",
       "      <td>fatooufake</td>\n",
       "      <td>202208</td>\n",
       "      <td>2022</td>\n",
       "      <td>6</td>\n",
       "      <td>1</td>\n",
       "      <td>0</td>\n",
       "      <td>1</td>\n",
       "      <td>9</td>\n",
       "      <td>candidato ao governo do rio pelo pdt participo...</td>\n",
       "      <td>candidato governo rio pdt participou, nesta se...</td>\n",
       "      <td>['candidato', 'governo', 'rio', 'pdt', 'partic...</td>\n",
       "      <td>candidato governo rio pdt participou nesta seg...</td>\n",
       "      <td>148</td>\n",
       "      <td>3</td>\n",
       "      <td>0</td>\n",
       "      <td>0</td>\n",
       "      <td>0</td>\n",
       "      <td>0</td>\n",
       "      <td>0</td>\n",
       "      <td>POLITICA</td>\n",
       "    </tr>\n",
       "  </tbody>\n",
       "</table>\n",
       "</div>"
      ],
      "text/plain": [
       "         User    Date   Ano  Likes  Retweets  Quotes  Replies  \\\n",
       "0  fatooufake  202208  2022      4         0       0        2   \n",
       "1  fatooufake  202208  2022      7         0       0        1   \n",
       "2  fatooufake  202208  2022      7         1       0        1   \n",
       "3  fatooufake  202208  2022      7         0       0        1   \n",
       "4  fatooufake  202208  2022      6         1       0        1   \n",
       "\n",
       "   Total_Engajamento                                              Tweet  \\\n",
       "0                  8  candidato à reeleição pelo pl participou, nest...   \n",
       "1                  9  candidato do psdb ao governo do df participou ...   \n",
       "2                 10  a entrevista foi transmitida ao vivo pela rádi...   \n",
       "3                  9  frases foram ditas em redes sociais, no horári...   \n",
       "4                  9  candidato ao governo do rio pelo pdt participo...   \n",
       "\n",
       "                                  text_sem_stopwords  \\\n",
       "0  candidato reeleicao pl participou, nesta quart...   \n",
       "1  candidato psdb governo df participou serie ent...   \n",
       "2  entrevista transmitida vivo radio sites redes ...   \n",
       "3  frases ditas redes sociais, horario eleitoral ...   \n",
       "4  candidato governo rio pdt participou, nesta se...   \n",
       "\n",
       "                                           tokenized  \\\n",
       "0  ['candidato', 'reeleicao', 'pl', 'participou',...   \n",
       "1  ['candidato', 'psdb', 'governo', 'df', 'partic...   \n",
       "2  ['entrevista', 'transmitida', 'vivo', 'radio',...   \n",
       "3  ['frases', 'ditas', 'redes', 'sociais', ',', '...   \n",
       "4  ['candidato', 'governo', 'rio', 'pdt', 'partic...   \n",
       "\n",
       "                                         text_string  Qtd_Caracteres  \\\n",
       "0  candidato reeleicao participou nesta quarta-fe...             141   \n",
       "1  candidato psdb governo participou serie entrev...             124   \n",
       "2  entrevista transmitida vivo radio sites redes ...             108   \n",
       "3  frases ditas redes sociais horario eleitoral e...             112   \n",
       "4  candidato governo rio pdt participou nesta seg...             148   \n",
       "\n",
       "   Politica  Saude  Educacao  Seguranca  Meio_Ambiente  Economia  \\\n",
       "0         4      0         0          0              0         0   \n",
       "1         3      0         0          0              0         0   \n",
       "2         1      0         0          0              0         0   \n",
       "3         2      0         0          0              0         0   \n",
       "4         3      0         0          0              0         0   \n",
       "\n",
       "  Categoria_Predominante  \n",
       "0               POLITICA  \n",
       "1               POLITICA  \n",
       "2               POLITICA  \n",
       "3               POLITICA  \n",
       "4               POLITICA  "
      ]
     },
     "execution_count": 2,
     "metadata": {},
     "output_type": "execute_result"
    }
   ],
   "source": [
    "df_twitter = pd.read_excel(\"tbl_twitter_v2.xlsx\")\n",
    "df_twitter.head(5)"
   ]
  },
  {
   "cell_type": "code",
   "execution_count": 43,
   "metadata": {},
   "outputs": [],
   "source": [
    "df_aux = pd.read_csv('plotagem_boxplot_normalizado.csv')"
   ]
  },
  {
   "cell_type": "code",
   "execution_count": 44,
   "metadata": {},
   "outputs": [
    {
     "data": {
      "text/html": [
       "<div>\n",
       "<style scoped>\n",
       "    .dataframe tbody tr th:only-of-type {\n",
       "        vertical-align: middle;\n",
       "    }\n",
       "\n",
       "    .dataframe tbody tr th {\n",
       "        vertical-align: top;\n",
       "    }\n",
       "\n",
       "    .dataframe thead th {\n",
       "        text-align: right;\n",
       "    }\n",
       "</style>\n",
       "<table border=\"1\" class=\"dataframe\">\n",
       "  <thead>\n",
       "    <tr style=\"text-align: right;\">\n",
       "      <th></th>\n",
       "      <th>Unnamed: 0</th>\n",
       "      <th>Total_Engajamento</th>\n",
       "      <th>Ano_2020</th>\n",
       "      <th>Ano_2022</th>\n",
       "      <th>Qtd_Caracteres</th>\n",
       "      <th>User_estadaoverifica</th>\n",
       "      <th>User_fatooufake</th>\n",
       "      <th>User_uolconfere</th>\n",
       "      <th>Politica</th>\n",
       "      <th>Saude</th>\n",
       "      <th>Educacao</th>\n",
       "      <th>Seguranca</th>\n",
       "      <th>Meio_Ambiente</th>\n",
       "      <th>Economia</th>\n",
       "      <th>bc_engajamento</th>\n",
       "    </tr>\n",
       "  </thead>\n",
       "  <tbody>\n",
       "    <tr>\n",
       "      <th>0</th>\n",
       "      <td>1</td>\n",
       "      <td>8.0</td>\n",
       "      <td>0</td>\n",
       "      <td>1</td>\n",
       "      <td>4.948760</td>\n",
       "      <td>0</td>\n",
       "      <td>1</td>\n",
       "      <td>0</td>\n",
       "      <td>1.386294</td>\n",
       "      <td>0.0</td>\n",
       "      <td>0.0</td>\n",
       "      <td>0.0</td>\n",
       "      <td>0.0</td>\n",
       "      <td>0.0</td>\n",
       "      <td>2.395125</td>\n",
       "    </tr>\n",
       "    <tr>\n",
       "      <th>1</th>\n",
       "      <td>2</td>\n",
       "      <td>9.0</td>\n",
       "      <td>0</td>\n",
       "      <td>1</td>\n",
       "      <td>4.820282</td>\n",
       "      <td>0</td>\n",
       "      <td>1</td>\n",
       "      <td>0</td>\n",
       "      <td>1.098612</td>\n",
       "      <td>0.0</td>\n",
       "      <td>0.0</td>\n",
       "      <td>0.0</td>\n",
       "      <td>0.0</td>\n",
       "      <td>0.0</td>\n",
       "      <td>2.551615</td>\n",
       "    </tr>\n",
       "    <tr>\n",
       "      <th>2</th>\n",
       "      <td>3</td>\n",
       "      <td>10.0</td>\n",
       "      <td>0</td>\n",
       "      <td>1</td>\n",
       "      <td>4.682131</td>\n",
       "      <td>0</td>\n",
       "      <td>1</td>\n",
       "      <td>0</td>\n",
       "      <td>0.000000</td>\n",
       "      <td>0.0</td>\n",
       "      <td>0.0</td>\n",
       "      <td>0.0</td>\n",
       "      <td>0.0</td>\n",
       "      <td>0.0</td>\n",
       "      <td>2.693690</td>\n",
       "    </tr>\n",
       "    <tr>\n",
       "      <th>3</th>\n",
       "      <td>4</td>\n",
       "      <td>9.0</td>\n",
       "      <td>0</td>\n",
       "      <td>1</td>\n",
       "      <td>4.718499</td>\n",
       "      <td>0</td>\n",
       "      <td>1</td>\n",
       "      <td>0</td>\n",
       "      <td>0.693147</td>\n",
       "      <td>0.0</td>\n",
       "      <td>0.0</td>\n",
       "      <td>0.0</td>\n",
       "      <td>0.0</td>\n",
       "      <td>0.0</td>\n",
       "      <td>2.551615</td>\n",
       "    </tr>\n",
       "    <tr>\n",
       "      <th>4</th>\n",
       "      <td>5</td>\n",
       "      <td>9.0</td>\n",
       "      <td>0</td>\n",
       "      <td>1</td>\n",
       "      <td>4.997212</td>\n",
       "      <td>0</td>\n",
       "      <td>1</td>\n",
       "      <td>0</td>\n",
       "      <td>1.098612</td>\n",
       "      <td>0.0</td>\n",
       "      <td>0.0</td>\n",
       "      <td>0.0</td>\n",
       "      <td>0.0</td>\n",
       "      <td>0.0</td>\n",
       "      <td>2.551615</td>\n",
       "    </tr>\n",
       "    <tr>\n",
       "      <th>5</th>\n",
       "      <td>6</td>\n",
       "      <td>5.0</td>\n",
       "      <td>0</td>\n",
       "      <td>1</td>\n",
       "      <td>4.644391</td>\n",
       "      <td>0</td>\n",
       "      <td>1</td>\n",
       "      <td>0</td>\n",
       "      <td>1.098612</td>\n",
       "      <td>0.0</td>\n",
       "      <td>0.0</td>\n",
       "      <td>0.0</td>\n",
       "      <td>0.0</td>\n",
       "      <td>0.0</td>\n",
       "      <td>1.794488</td>\n",
       "    </tr>\n",
       "    <tr>\n",
       "      <th>6</th>\n",
       "      <td>7</td>\n",
       "      <td>144.0</td>\n",
       "      <td>0</td>\n",
       "      <td>1</td>\n",
       "      <td>4.430817</td>\n",
       "      <td>0</td>\n",
       "      <td>1</td>\n",
       "      <td>0</td>\n",
       "      <td>0.000000</td>\n",
       "      <td>0.0</td>\n",
       "      <td>0.0</td>\n",
       "      <td>0.0</td>\n",
       "      <td>0.0</td>\n",
       "      <td>0.0</td>\n",
       "      <td>7.040496</td>\n",
       "    </tr>\n",
       "    <tr>\n",
       "      <th>7</th>\n",
       "      <td>8</td>\n",
       "      <td>8.0</td>\n",
       "      <td>0</td>\n",
       "      <td>1</td>\n",
       "      <td>5.170484</td>\n",
       "      <td>0</td>\n",
       "      <td>1</td>\n",
       "      <td>0</td>\n",
       "      <td>1.609438</td>\n",
       "      <td>0.0</td>\n",
       "      <td>0.0</td>\n",
       "      <td>0.0</td>\n",
       "      <td>0.0</td>\n",
       "      <td>0.0</td>\n",
       "      <td>2.395125</td>\n",
       "    </tr>\n",
       "    <tr>\n",
       "      <th>8</th>\n",
       "      <td>9</td>\n",
       "      <td>4.0</td>\n",
       "      <td>0</td>\n",
       "      <td>1</td>\n",
       "      <td>4.624973</td>\n",
       "      <td>0</td>\n",
       "      <td>1</td>\n",
       "      <td>0</td>\n",
       "      <td>0.000000</td>\n",
       "      <td>0.0</td>\n",
       "      <td>0.0</td>\n",
       "      <td>0.0</td>\n",
       "      <td>0.0</td>\n",
       "      <td>0.0</td>\n",
       "      <td>1.522193</td>\n",
       "    </tr>\n",
       "    <tr>\n",
       "      <th>9</th>\n",
       "      <td>10</td>\n",
       "      <td>7.0</td>\n",
       "      <td>0</td>\n",
       "      <td>1</td>\n",
       "      <td>4.624973</td>\n",
       "      <td>0</td>\n",
       "      <td>1</td>\n",
       "      <td>0</td>\n",
       "      <td>0.000000</td>\n",
       "      <td>0.0</td>\n",
       "      <td>0.0</td>\n",
       "      <td>0.0</td>\n",
       "      <td>0.0</td>\n",
       "      <td>0.0</td>\n",
       "      <td>2.220648</td>\n",
       "    </tr>\n",
       "  </tbody>\n",
       "</table>\n",
       "</div>"
      ],
      "text/plain": [
       "   Unnamed: 0  Total_Engajamento  Ano_2020  Ano_2022  Qtd_Caracteres  \\\n",
       "0           1                8.0         0         1        4.948760   \n",
       "1           2                9.0         0         1        4.820282   \n",
       "2           3               10.0         0         1        4.682131   \n",
       "3           4                9.0         0         1        4.718499   \n",
       "4           5                9.0         0         1        4.997212   \n",
       "5           6                5.0         0         1        4.644391   \n",
       "6           7              144.0         0         1        4.430817   \n",
       "7           8                8.0         0         1        5.170484   \n",
       "8           9                4.0         0         1        4.624973   \n",
       "9          10                7.0         0         1        4.624973   \n",
       "\n",
       "   User_estadaoverifica  User_fatooufake  User_uolconfere  Politica  Saude  \\\n",
       "0                     0                1                0  1.386294    0.0   \n",
       "1                     0                1                0  1.098612    0.0   \n",
       "2                     0                1                0  0.000000    0.0   \n",
       "3                     0                1                0  0.693147    0.0   \n",
       "4                     0                1                0  1.098612    0.0   \n",
       "5                     0                1                0  1.098612    0.0   \n",
       "6                     0                1                0  0.000000    0.0   \n",
       "7                     0                1                0  1.609438    0.0   \n",
       "8                     0                1                0  0.000000    0.0   \n",
       "9                     0                1                0  0.000000    0.0   \n",
       "\n",
       "   Educacao  Seguranca  Meio_Ambiente  Economia  bc_engajamento  \n",
       "0       0.0        0.0            0.0       0.0        2.395125  \n",
       "1       0.0        0.0            0.0       0.0        2.551615  \n",
       "2       0.0        0.0            0.0       0.0        2.693690  \n",
       "3       0.0        0.0            0.0       0.0        2.551615  \n",
       "4       0.0        0.0            0.0       0.0        2.551615  \n",
       "5       0.0        0.0            0.0       0.0        1.794488  \n",
       "6       0.0        0.0            0.0       0.0        7.040496  \n",
       "7       0.0        0.0            0.0       0.0        2.395125  \n",
       "8       0.0        0.0            0.0       0.0        1.522193  \n",
       "9       0.0        0.0            0.0       0.0        2.220648  "
      ]
     },
     "execution_count": 44,
     "metadata": {},
     "output_type": "execute_result"
    }
   ],
   "source": [
    "df_aux.head(10)"
   ]
  },
  {
   "cell_type": "code",
   "execution_count": 46,
   "metadata": {},
   "outputs": [
    {
     "data": {
      "text/plain": [
       "<AxesSubplot:title={'center':'Box-Plot dos Valores de Engajamento - Transf. Box-Cox'}, xlabel='bc_engajamento'>"
      ]
     },
     "execution_count": 46,
     "metadata": {},
     "output_type": "execute_result"
    },
    {
     "data": {
      "image/png": "[encoded data removed]",
      "text/plain": [
       "<Figure size 720x360 with 1 Axes>"
      ]
     },
     "metadata": {
      "needs_background": "light"
     },
     "output_type": "display_data"
    }
   ],
   "source": [
    "# Box-Plot\n",
    "plt.figure(figsize=(10,5))\n",
    "plt.title('Box-Plot dos Valores de Engajamento - Transf. Box-Cox', fontsize=12)\n",
    "sns.boxplot(x='bc_engajamento', data=df_aux,color='grey') # Filtrando os outliers\n",
    "# Mediana < 20\n",
    "# Uma distribuição normal apresentaria um box-plot com a caixa próxima do centro da linha horizontal, que não é o caso abaixo. \n",
    "# Este está assimétrico, com calda à direita. Do lado direito, também é possível observar um grande volume de outliers. A partir dessa análise, \n",
    "# a impressão que temos é de que não é uma distribuição normal.  "
   ]
  },
  {
   "cell_type": "code",
   "execution_count": 41,
   "metadata": {},
   "outputs": [
    {
     "data": {
      "text/plain": [
       "<AxesSubplot:title={'center':'Box-Plot dos Valores de Engajamento Sem Outliers'}, xlabel='Total_Engajamento'>"
      ]
     },
     "execution_count": 41,
     "metadata": {},
     "output_type": "execute_result"
    },
    {
     "data": {
      "image/png": "[encoded data removed]",
      "text/plain": [
       "<Figure size 720x360 with 1 Axes>"
      ]
     },
     "metadata": {
      "needs_background": "light"
     },
     "output_type": "display_data"
    }
   ],
   "source": [
    "# Box-Plot\n",
    "plt.figure(figsize=(10,5))\n",
    "plt.title('Box-Plot dos Valores de Engajamento Sem Outliers', fontsize=12)\n",
    "sns.boxplot(x='Total_Engajamento', data=df_twitter,color='grey', showfliers=False) # Filtrando os outliers\n",
    "# Mediana < 20\n",
    "# Uma distribuição normal apresentaria um box-plot com a caixa próxima do centro da linha horizontal, que não é o caso abaixo. \n",
    "# Este está assimétrico, com calda à direita. Do lado direito, também é possível observar um grande volume de outliers. A partir dessa análise, \n",
    "# a impressão que temos é de que não é uma distribuição normal.  "
   ]
  },
  {
   "cell_type": "code",
   "execution_count": 42,
   "metadata": {},
   "outputs": [
    {
     "data": {
      "text/plain": [
       "<AxesSubplot:title={'center':'Box-Plot dos Valores de Engajamento'}, xlabel='Total_Engajamento'>"
      ]
     },
     "execution_count": 42,
     "metadata": {},
     "output_type": "execute_result"
    },
    {
     "data": {
      "image/png": "[encoded data removed]",
      "text/plain": [
       "<Figure size 720x360 with 1 Axes>"
      ]
     },
     "metadata": {
      "needs_background": "light"
     },
     "output_type": "display_data"
    }
   ],
   "source": [
    "plt.figure(figsize=(10,5))\n",
    "plt.title('Box-Plot dos Valores de Engajamento', fontsize=12)\n",
    "sns.boxplot(x='Total_Engajamento', data=df_twitter,color='grey') # Considerando os outliers"
   ]
  },
  {
   "cell_type": "code",
   "execution_count": 5,
   "metadata": {},
   "outputs": [
    {
     "data": {
      "text/plain": [
       "<AxesSubplot:title={'center':'Distribuição dos Valores de Engajamento'}, xlabel='Total_Engajamento', ylabel='Count'>"
      ]
     },
     "execution_count": 5,
     "metadata": {},
     "output_type": "execute_result"
    },
    {
     "data": {
      "image/png": "[encoded data removed]",
      "text/plain": [
       "<Figure size 720x576 with 1 Axes>"
      ]
     },
     "metadata": {
      "needs_background": "light"
     },
     "output_type": "display_data"
    }
   ],
   "source": [
    "# Histograma\n",
    "plt.figure(figsize=(10,8))\n",
    "plt.title('Distribuição dos Valores de Engajamento', fontsize=12)\n",
    "sns.histplot(x='Total_Engajamento', data=df_twitter, kde=True, color='grey') "
   ]
  },
  {
   "cell_type": "code",
   "execution_count": 6,
   "metadata": {},
   "outputs": [
    {
     "data": {
      "text/plain": [
       "(16.0, 81.26368855902534)"
      ]
     },
     "execution_count": 6,
     "metadata": {},
     "output_type": "execute_result"
    }
   ],
   "source": [
    "df_twitter['Total_Engajamento'].median(), df_twitter['Total_Engajamento'].mean() # Média afetada pelos outliers > média desloca-se à direira da mediana. Isso reforça que não temos uma distribuição normal. "
   ]
  },
  {
   "cell_type": "code",
   "execution_count": 7,
   "metadata": {},
   "outputs": [
    {
     "data": {
      "text/plain": [
       "Text(0.5, 1.0, 'Normal QQ Plot')"
      ]
     },
     "execution_count": 7,
     "metadata": {},
     "output_type": "execute_result"
    },
    {
     "data": {
      "image/png": "[encoded data removed]",
      "text/plain": [
       "<Figure size 1080x576 with 1 Axes>"
      ]
     },
     "metadata": {
      "needs_background": "light"
     },
     "output_type": "display_data"
    }
   ],
   "source": [
    "import scipy.stats as stats\n",
    "plt.figure(figsize=(15,8))\n",
    "stats.probplot(df_twitter['Total_Engajamento'], dist='norm', plot=plt)\n",
    "plt.title('Normal QQ Plot', fontsize=12)"
   ]
  },
  {
   "cell_type": "code",
   "execution_count": 8,
   "metadata": {},
   "outputs": [],
   "source": [
    "from statsmodels.stats.diagnostic import lilliefors as lillie"
   ]
  },
  {
   "cell_type": "code",
   "execution_count": 36,
   "metadata": {},
   "outputs": [
    {
     "name": "stdout",
     "output_type": "stream",
     "text": [
      "Shapiro-Wilk:  ShapiroResult(statistic=0.16335946321487427, pvalue=0.0)\n",
      "Kolmogorov-Smirnov:  (0.41200789477745414, 0.0009999999999998899)\n"
     ]
    },
    {
     "name": "stderr",
     "output_type": "stream",
     "text": [
      "c:\\Users\\clara\\OneDrive\\anaconda3\\lib\\site-packages\\scipy\\stats\\morestats.py:1760: UserWarning: p-value may not be accurate for N > 5000.\n",
      "  warnings.warn(\"p-value may not be accurate for N > 5000.\")\n"
     ]
    }
   ],
   "source": [
    "# H0 : Normal com p-value > 0.05 e H1 : Não Normal com p-value <= 0.05\n",
    "# Shapiro Wilk & K-S >> Rejeito H0, apontando para uma distribuição não normal\n",
    "print(\"Shapiro-Wilk: \", stats.shapiro(df_twitter['Total_Engajamento']))\n",
    "print(\"Kolmogorov-Smirnov: \", lillie(df_twitter['Total_Engajamento'],dist='norm'))"
   ]
  },
  {
   "cell_type": "code",
   "execution_count": null,
   "metadata": {},
   "outputs": [],
   "source": [
    "# print(\"Anderson-Darling: \", stats.anderson(df_twitter['Total_Engajamento'],'norm'))"
   ]
  },
  {
   "cell_type": "code",
   "execution_count": 37,
   "metadata": {},
   "outputs": [
    {
     "data": {
      "text/plain": [
       "<AxesSubplot:title={'center':'Heatmap - Correlação'}>"
      ]
     },
     "execution_count": 37,
     "metadata": {},
     "output_type": "execute_result"
    },
    {
     "data": {
      "image/png": "[encoded data removed]",
      "text/plain": [
       "<Figure size 1080x576 with 2 Axes>"
      ]
     },
     "metadata": {
      "needs_background": "light"
     },
     "output_type": "display_data"
    }
   ],
   "source": [
    "# Análise de Correlação >> Correlação baixa das variáveis com \"Total_Engajamento\"\n",
    "cols = ['Total_Engajamento', 'Qtd_Caracteres', 'Politica', 'Saude', 'Educacao', 'Seguranca', 'Meio_Ambiente', 'Economia']\n",
    "correlacao = df_twitter[cols].corr(method='spearman') # Usando esse método dado que temos uma distribuição não normal\n",
    "\n",
    "plt.figure(figsize=(15,8))\n",
    "plt.title('Heatmap - Correlação', fontsize=12)\n",
    "sns.heatmap(correlacao, annot=True)"
   ]
  },
  {
   "cell_type": "code",
   "execution_count": 11,
   "metadata": {},
   "outputs": [
    {
     "data": {
      "image/png": "[encoded data removed]",
      "text/plain": [
       "<Figure size 1080x1080 with 7 Axes>"
      ]
     },
     "metadata": {
      "needs_background": "light"
     },
     "output_type": "display_data"
    }
   ],
   "source": [
    "cols = ['Qtd_Caracteres', 'Politica', 'Saude', 'Educacao', 'Seguranca', 'Meio_Ambiente', 'Economia']\n",
    "plt.figure(figsize=(15,15))\n",
    "\n",
    "for k in range(len(cols)):\n",
    "    plt.subplot(4,3,k+1)\n",
    "    sns.scatterplot(x='Total_Engajamento',y=cols[k],data=df_twitter,color='#ff7252')\n",
    "\n",
    "plt.ylabel(cols[k],fontsize=10)\n",
    "plt.xlabel('Total_Engajamento',fontsize=10)\n",
    "plt.show()"
   ]
  },
  {
   "cell_type": "code",
   "execution_count": 12,
   "metadata": {},
   "outputs": [],
   "source": [
    "df_twitter_aux = pd.get_dummies(data=df_twitter, columns=['Ano', 'User'])"
   ]
  },
  {
   "cell_type": "code",
   "execution_count": 13,
   "metadata": {},
   "outputs": [
    {
     "data": {
      "text/html": [
       "<div>\n",
       "<style scoped>\n",
       "    .dataframe tbody tr th:only-of-type {\n",
       "        vertical-align: middle;\n",
       "    }\n",
       "\n",
       "    .dataframe tbody tr th {\n",
       "        vertical-align: top;\n",
       "    }\n",
       "\n",
       "    .dataframe thead th {\n",
       "        text-align: right;\n",
       "    }\n",
       "</style>\n",
       "<table border=\"1\" class=\"dataframe\">\n",
       "  <thead>\n",
       "    <tr style=\"text-align: right;\">\n",
       "      <th></th>\n",
       "      <th>Date</th>\n",
       "      <th>Likes</th>\n",
       "      <th>Retweets</th>\n",
       "      <th>Quotes</th>\n",
       "      <th>Replies</th>\n",
       "      <th>Total_Engajamento</th>\n",
       "      <th>Tweet</th>\n",
       "      <th>text_sem_stopwords</th>\n",
       "      <th>tokenized</th>\n",
       "      <th>text_string</th>\n",
       "      <th>...</th>\n",
       "      <th>Meio_Ambiente</th>\n",
       "      <th>Economia</th>\n",
       "      <th>Categoria_Predominante</th>\n",
       "      <th>Ano_2020</th>\n",
       "      <th>Ano_2021</th>\n",
       "      <th>Ano_2022</th>\n",
       "      <th>User_agencialupa</th>\n",
       "      <th>User_estadaoverifica</th>\n",
       "      <th>User_fatooufake</th>\n",
       "      <th>User_uolconfere</th>\n",
       "    </tr>\n",
       "  </thead>\n",
       "  <tbody>\n",
       "    <tr>\n",
       "      <th>0</th>\n",
       "      <td>202208</td>\n",
       "      <td>4</td>\n",
       "      <td>0</td>\n",
       "      <td>0</td>\n",
       "      <td>2</td>\n",
       "      <td>8</td>\n",
       "      <td>candidato à reeleição pelo pl participou, nest...</td>\n",
       "      <td>candidato reeleicao pl participou, nesta quart...</td>\n",
       "      <td>['candidato', 'reeleicao', 'pl', 'participou',...</td>\n",
       "      <td>candidato reeleicao participou nesta quarta-fe...</td>\n",
       "      <td>...</td>\n",
       "      <td>0</td>\n",
       "      <td>0</td>\n",
       "      <td>POLITICA</td>\n",
       "      <td>0</td>\n",
       "      <td>0</td>\n",
       "      <td>1</td>\n",
       "      <td>0</td>\n",
       "      <td>0</td>\n",
       "      <td>1</td>\n",
       "      <td>0</td>\n",
       "    </tr>\n",
       "    <tr>\n",
       "      <th>1</th>\n",
       "      <td>202208</td>\n",
       "      <td>7</td>\n",
       "      <td>0</td>\n",
       "      <td>0</td>\n",
       "      <td>1</td>\n",
       "      <td>9</td>\n",
       "      <td>candidato do psdb ao governo do df participou ...</td>\n",
       "      <td>candidato psdb governo df participou serie ent...</td>\n",
       "      <td>['candidato', 'psdb', 'governo', 'df', 'partic...</td>\n",
       "      <td>candidato psdb governo participou serie entrev...</td>\n",
       "      <td>...</td>\n",
       "      <td>0</td>\n",
       "      <td>0</td>\n",
       "      <td>POLITICA</td>\n",
       "      <td>0</td>\n",
       "      <td>0</td>\n",
       "      <td>1</td>\n",
       "      <td>0</td>\n",
       "      <td>0</td>\n",
       "      <td>1</td>\n",
       "      <td>0</td>\n",
       "    </tr>\n",
       "    <tr>\n",
       "      <th>2</th>\n",
       "      <td>202208</td>\n",
       "      <td>7</td>\n",
       "      <td>1</td>\n",
       "      <td>0</td>\n",
       "      <td>1</td>\n",
       "      <td>10</td>\n",
       "      <td>a entrevista foi transmitida ao vivo pela rádi...</td>\n",
       "      <td>entrevista transmitida vivo radio sites redes ...</td>\n",
       "      <td>['entrevista', 'transmitida', 'vivo', 'radio',...</td>\n",
       "      <td>entrevista transmitida vivo radio sites redes ...</td>\n",
       "      <td>...</td>\n",
       "      <td>0</td>\n",
       "      <td>0</td>\n",
       "      <td>POLITICA</td>\n",
       "      <td>0</td>\n",
       "      <td>0</td>\n",
       "      <td>1</td>\n",
       "      <td>0</td>\n",
       "      <td>0</td>\n",
       "      <td>1</td>\n",
       "      <td>0</td>\n",
       "    </tr>\n",
       "    <tr>\n",
       "      <th>3</th>\n",
       "      <td>202208</td>\n",
       "      <td>7</td>\n",
       "      <td>0</td>\n",
       "      <td>0</td>\n",
       "      <td>1</td>\n",
       "      <td>9</td>\n",
       "      <td>frases foram ditas em redes sociais, no horári...</td>\n",
       "      <td>frases ditas redes sociais, horario eleitoral ...</td>\n",
       "      <td>['frases', 'ditas', 'redes', 'sociais', ',', '...</td>\n",
       "      <td>frases ditas redes sociais horario eleitoral e...</td>\n",
       "      <td>...</td>\n",
       "      <td>0</td>\n",
       "      <td>0</td>\n",
       "      <td>POLITICA</td>\n",
       "      <td>0</td>\n",
       "      <td>0</td>\n",
       "      <td>1</td>\n",
       "      <td>0</td>\n",
       "      <td>0</td>\n",
       "      <td>1</td>\n",
       "      <td>0</td>\n",
       "    </tr>\n",
       "    <tr>\n",
       "      <th>4</th>\n",
       "      <td>202208</td>\n",
       "      <td>6</td>\n",
       "      <td>1</td>\n",
       "      <td>0</td>\n",
       "      <td>1</td>\n",
       "      <td>9</td>\n",
       "      <td>candidato ao governo do rio pelo pdt participo...</td>\n",
       "      <td>candidato governo rio pdt participou, nesta se...</td>\n",
       "      <td>['candidato', 'governo', 'rio', 'pdt', 'partic...</td>\n",
       "      <td>candidato governo rio pdt participou nesta seg...</td>\n",
       "      <td>...</td>\n",
       "      <td>0</td>\n",
       "      <td>0</td>\n",
       "      <td>POLITICA</td>\n",
       "      <td>0</td>\n",
       "      <td>0</td>\n",
       "      <td>1</td>\n",
       "      <td>0</td>\n",
       "      <td>0</td>\n",
       "      <td>1</td>\n",
       "      <td>0</td>\n",
       "    </tr>\n",
       "  </tbody>\n",
       "</table>\n",
       "<p>5 rows × 25 columns</p>\n",
       "</div>"
      ],
      "text/plain": [
       "     Date  Likes  Retweets  Quotes  Replies  Total_Engajamento  \\\n",
       "0  202208      4         0       0        2                  8   \n",
       "1  202208      7         0       0        1                  9   \n",
       "2  202208      7         1       0        1                 10   \n",
       "3  202208      7         0       0        1                  9   \n",
       "4  202208      6         1       0        1                  9   \n",
       "\n",
       "                                               Tweet  \\\n",
       "0  candidato à reeleição pelo pl participou, nest...   \n",
       "1  candidato do psdb ao governo do df participou ...   \n",
       "2  a entrevista foi transmitida ao vivo pela rádi...   \n",
       "3  frases foram ditas em redes sociais, no horári...   \n",
       "4  candidato ao governo do rio pelo pdt participo...   \n",
       "\n",
       "                                  text_sem_stopwords  \\\n",
       "0  candidato reeleicao pl participou, nesta quart...   \n",
       "1  candidato psdb governo df participou serie ent...   \n",
       "2  entrevista transmitida vivo radio sites redes ...   \n",
       "3  frases ditas redes sociais, horario eleitoral ...   \n",
       "4  candidato governo rio pdt participou, nesta se...   \n",
       "\n",
       "                                           tokenized  \\\n",
       "0  ['candidato', 'reeleicao', 'pl', 'participou',...   \n",
       "1  ['candidato', 'psdb', 'governo', 'df', 'partic...   \n",
       "2  ['entrevista', 'transmitida', 'vivo', 'radio',...   \n",
       "3  ['frases', 'ditas', 'redes', 'sociais', ',', '...   \n",
       "4  ['candidato', 'governo', 'rio', 'pdt', 'partic...   \n",
       "\n",
       "                                         text_string  ...  Meio_Ambiente  \\\n",
       "0  candidato reeleicao participou nesta quarta-fe...  ...              0   \n",
       "1  candidato psdb governo participou serie entrev...  ...              0   \n",
       "2  entrevista transmitida vivo radio sites redes ...  ...              0   \n",
       "3  frases ditas redes sociais horario eleitoral e...  ...              0   \n",
       "4  candidato governo rio pdt participou nesta seg...  ...              0   \n",
       "\n",
       "   Economia  Categoria_Predominante  Ano_2020  Ano_2021  Ano_2022  \\\n",
       "0         0                POLITICA         0         0         1   \n",
       "1         0                POLITICA         0         0         1   \n",
       "2         0                POLITICA         0         0         1   \n",
       "3         0                POLITICA         0         0         1   \n",
       "4         0                POLITICA         0         0         1   \n",
       "\n",
       "   User_agencialupa User_estadaoverifica  User_fatooufake  User_uolconfere  \n",
       "0                 0                    0                1                0  \n",
       "1                 0                    0                1                0  \n",
       "2                 0                    0                1                0  \n",
       "3                 0                    0                1                0  \n",
       "4                 0                    0                1                0  \n",
       "\n",
       "[5 rows x 25 columns]"
      ]
     },
     "execution_count": 13,
     "metadata": {},
     "output_type": "execute_result"
    }
   ],
   "source": [
    "df_twitter_aux.head(5)"
   ]
  },
  {
   "cell_type": "code",
   "execution_count": 14,
   "metadata": {},
   "outputs": [],
   "source": [
    "cols = ['Ano_2020', 'Ano_2021',\t'Ano_2022', 'User_agencialupa',\t'User_estadaoverifica',\t\n",
    "        'User_fatooufake', 'User_uolconfere', 'Qtd_Caracteres', 'Politica', 'Saude',\n",
    "        'Educacao', 'Seguranca', 'Meio_Ambiente', 'Economia']\n",
    "\n",
    "X = pd.DataFrame(df_twitter_aux,columns=cols)\n",
    "y = df_twitter_aux['Total_Engajamento']"
   ]
  },
  {
   "cell_type": "code",
   "execution_count": 15,
   "metadata": {},
   "outputs": [],
   "source": [
    "from sklearn.preprocessing import StandardScaler\n",
    "\n",
    "scaler = StandardScaler()\n",
    "X_scaled_data = scaler.fit_transform(X)\n",
    "\n",
    "X_standard_df = pd.DataFrame(X_scaled_data, columns =['Ano_2020', 'Ano_2021', 'Ano_2022', 'User_agencialupa', 'User_estadaoverifica',\t\n",
    "        'User_fatooufake', 'User_uolconfere', 'Qtd_Caracteres', 'Politica', 'Saude',\n",
    "        'Educacao', 'Seguranca', 'Meio_Ambiente', 'Economia'])"
   ]
  },
  {
   "cell_type": "code",
   "execution_count": 16,
   "metadata": {},
   "outputs": [
    {
     "data": {
      "text/html": [
       "<div>\n",
       "<style scoped>\n",
       "    .dataframe tbody tr th:only-of-type {\n",
       "        vertical-align: middle;\n",
       "    }\n",
       "\n",
       "    .dataframe tbody tr th {\n",
       "        vertical-align: top;\n",
       "    }\n",
       "\n",
       "    .dataframe thead th {\n",
       "        text-align: right;\n",
       "    }\n",
       "</style>\n",
       "<table border=\"1\" class=\"dataframe\">\n",
       "  <thead>\n",
       "    <tr style=\"text-align: right;\">\n",
       "      <th></th>\n",
       "      <th>Ano_2020</th>\n",
       "      <th>Ano_2021</th>\n",
       "      <th>Ano_2022</th>\n",
       "      <th>User_agencialupa</th>\n",
       "      <th>User_estadaoverifica</th>\n",
       "      <th>User_fatooufake</th>\n",
       "      <th>User_uolconfere</th>\n",
       "      <th>Qtd_Caracteres</th>\n",
       "      <th>Politica</th>\n",
       "      <th>Saude</th>\n",
       "      <th>Educacao</th>\n",
       "      <th>Seguranca</th>\n",
       "      <th>Meio_Ambiente</th>\n",
       "      <th>Economia</th>\n",
       "    </tr>\n",
       "  </thead>\n",
       "  <tbody>\n",
       "    <tr>\n",
       "      <th>0</th>\n",
       "      <td>-0.337442</td>\n",
       "      <td>-0.941625</td>\n",
       "      <td>1.156495</td>\n",
       "      <td>-0.901608</td>\n",
       "      <td>-0.394574</td>\n",
       "      <td>2.423418</td>\n",
       "      <td>-0.610309</td>\n",
       "      <td>-0.135355</td>\n",
       "      <td>2.224379</td>\n",
       "      <td>-0.521431</td>\n",
       "      <td>-0.133848</td>\n",
       "      <td>-0.27724</td>\n",
       "      <td>-0.097212</td>\n",
       "      <td>-0.133724</td>\n",
       "    </tr>\n",
       "    <tr>\n",
       "      <th>1</th>\n",
       "      <td>-0.337442</td>\n",
       "      <td>-0.941625</td>\n",
       "      <td>1.156495</td>\n",
       "      <td>-0.901608</td>\n",
       "      <td>-0.394574</td>\n",
       "      <td>2.423418</td>\n",
       "      <td>-0.610309</td>\n",
       "      <td>-0.461654</td>\n",
       "      <td>1.492924</td>\n",
       "      <td>-0.521431</td>\n",
       "      <td>-0.133848</td>\n",
       "      <td>-0.27724</td>\n",
       "      <td>-0.097212</td>\n",
       "      <td>-0.133724</td>\n",
       "    </tr>\n",
       "    <tr>\n",
       "      <th>2</th>\n",
       "      <td>-0.337442</td>\n",
       "      <td>-0.941625</td>\n",
       "      <td>1.156495</td>\n",
       "      <td>-0.901608</td>\n",
       "      <td>-0.394574</td>\n",
       "      <td>2.423418</td>\n",
       "      <td>-0.610309</td>\n",
       "      <td>-0.768758</td>\n",
       "      <td>0.030012</td>\n",
       "      <td>-0.521431</td>\n",
       "      <td>-0.133848</td>\n",
       "      <td>-0.27724</td>\n",
       "      <td>-0.097212</td>\n",
       "      <td>-0.133724</td>\n",
       "    </tr>\n",
       "    <tr>\n",
       "      <th>3</th>\n",
       "      <td>-0.337442</td>\n",
       "      <td>-0.941625</td>\n",
       "      <td>1.156495</td>\n",
       "      <td>-0.901608</td>\n",
       "      <td>-0.394574</td>\n",
       "      <td>2.423418</td>\n",
       "      <td>-0.610309</td>\n",
       "      <td>-0.691982</td>\n",
       "      <td>0.761468</td>\n",
       "      <td>-0.521431</td>\n",
       "      <td>-0.133848</td>\n",
       "      <td>-0.27724</td>\n",
       "      <td>-0.097212</td>\n",
       "      <td>-0.133724</td>\n",
       "    </tr>\n",
       "    <tr>\n",
       "      <th>4</th>\n",
       "      <td>-0.337442</td>\n",
       "      <td>-0.941625</td>\n",
       "      <td>1.156495</td>\n",
       "      <td>-0.901608</td>\n",
       "      <td>-0.394574</td>\n",
       "      <td>2.423418</td>\n",
       "      <td>-0.610309</td>\n",
       "      <td>-0.000997</td>\n",
       "      <td>1.492924</td>\n",
       "      <td>-0.521431</td>\n",
       "      <td>-0.133848</td>\n",
       "      <td>-0.27724</td>\n",
       "      <td>-0.097212</td>\n",
       "      <td>-0.133724</td>\n",
       "    </tr>\n",
       "  </tbody>\n",
       "</table>\n",
       "</div>"
      ],
      "text/plain": [
       "   Ano_2020  Ano_2021  Ano_2022  User_agencialupa  User_estadaoverifica  \\\n",
       "0 -0.337442 -0.941625  1.156495         -0.901608             -0.394574   \n",
       "1 -0.337442 -0.941625  1.156495         -0.901608             -0.394574   \n",
       "2 -0.337442 -0.941625  1.156495         -0.901608             -0.394574   \n",
       "3 -0.337442 -0.941625  1.156495         -0.901608             -0.394574   \n",
       "4 -0.337442 -0.941625  1.156495         -0.901608             -0.394574   \n",
       "\n",
       "   User_fatooufake  User_uolconfere  Qtd_Caracteres  Politica     Saude  \\\n",
       "0         2.423418        -0.610309       -0.135355  2.224379 -0.521431   \n",
       "1         2.423418        -0.610309       -0.461654  1.492924 -0.521431   \n",
       "2         2.423418        -0.610309       -0.768758  0.030012 -0.521431   \n",
       "3         2.423418        -0.610309       -0.691982  0.761468 -0.521431   \n",
       "4         2.423418        -0.610309       -0.000997  1.492924 -0.521431   \n",
       "\n",
       "   Educacao  Seguranca  Meio_Ambiente  Economia  \n",
       "0 -0.133848   -0.27724      -0.097212 -0.133724  \n",
       "1 -0.133848   -0.27724      -0.097212 -0.133724  \n",
       "2 -0.133848   -0.27724      -0.097212 -0.133724  \n",
       "3 -0.133848   -0.27724      -0.097212 -0.133724  \n",
       "4 -0.133848   -0.27724      -0.097212 -0.133724  "
      ]
     },
     "execution_count": 16,
     "metadata": {},
     "output_type": "execute_result"
    }
   ],
   "source": [
    "X_standard_df.head(5)"
   ]
  },
  {
   "cell_type": "code",
   "execution_count": 17,
   "metadata": {},
   "outputs": [],
   "source": [
    "import sklearn.metrics as metrics\n",
    "def regression_results(y_true, y_pred):\n",
    "\n",
    "    # Regression metrics\n",
    "    explained_variance=metrics.explained_variance_score(y_true, y_pred)\n",
    "    mean_absolute_error=metrics.mean_absolute_error(y_true, y_pred) \n",
    "    mse=metrics.mean_squared_error(y_true, y_pred) \n",
    "    mean_squared_log_error=metrics.mean_squared_log_error(y_true, y_pred)\n",
    "    median_absolute_error=metrics.median_absolute_error(y_true, y_pred)\n",
    "    r2=metrics.r2_score(y_true, y_pred)\n",
    "\n",
    "    print('explained_variance: ', round(explained_variance,4))    \n",
    "    print('mean_squared_log_error: ', round(mean_squared_log_error,4))\n",
    "    print('r2: ', round(r2,4))\n",
    "    print('MAE: ', round(mean_absolute_error,4))\n",
    "    print('MSE: ', round(mse,4))\n",
    "    print('RMSE: ', round(np.sqrt(mse),4))"
   ]
  },
  {
   "cell_type": "code",
   "execution_count": 18,
   "metadata": {},
   "outputs": [],
   "source": [
    "X_train, X_test, y_train, y_test = train_test_split(X_standard_df, y, test_size=0.25, random_state=42)"
   ]
  },
  {
   "cell_type": "code",
   "execution_count": 20,
   "metadata": {},
   "outputs": [
    {
     "name": "stdout",
     "output_type": "stream",
     "text": [
      "[ 50.69552274 116.75739744 126.92882145 ... 114.33707358 200.97357293\n",
      "  44.40485383]\n"
     ]
    }
   ],
   "source": [
    "from sklearn.linear_model import LinearRegression\n",
    "\n",
    "clf = LinearRegression()\n",
    "clf.fit(X_train, y_train)\n",
    "\n",
    "predictions = clf.predict(X_test)\n",
    "print(predictions)"
   ]
  },
  {
   "cell_type": "code",
   "execution_count": 21,
   "metadata": {},
   "outputs": [
    {
     "data": {
      "text/plain": [
       "<matplotlib.collections.PathCollection at 0x23b97d83640>"
      ]
     },
     "execution_count": 21,
     "metadata": {},
     "output_type": "execute_result"
    },
    {
     "data": {
      "image/png": "[encoded data removed]",
      "text/plain": [
       "<Figure size 432x288 with 1 Axes>"
      ]
     },
     "metadata": {
      "needs_background": "light"
     },
     "output_type": "display_data"
    }
   ],
   "source": [
    "plt.scatter(y_test, predictions)"
   ]
  },
  {
   "cell_type": "code",
   "execution_count": 23,
   "metadata": {},
   "outputs": [
    {
     "data": {
      "text/plain": [
       "<matplotlib.collections.PathCollection at 0x23b98141130>"
      ]
     },
     "execution_count": 23,
     "metadata": {},
     "output_type": "execute_result"
    },
    {
     "data": {
      "image/png": "[encoded data removed]",
      "text/plain": [
       "<Figure size 432x288 with 1 Axes>"
      ]
     },
     "metadata": {
      "needs_background": "light"
     },
     "output_type": "display_data"
    }
   ],
   "source": [
    "from sklearn.linear_model import LinearRegression\n",
    "reg=LinearRegression(fit_intercept=True)\n",
    "model = reg.fit(X_train,y_train)\n",
    "predict = model.predict(X_test)\n",
    "\n",
    "plt.scatter(y_test, predict)"
   ]
  },
  {
   "cell_type": "code",
   "execution_count": 24,
   "metadata": {},
   "outputs": [
    {
     "name": "stdout",
     "output_type": "stream",
     "text": [
      "0.009781189109185795\n"
     ]
    }
   ],
   "source": [
    "from sklearn.metrics import r2_score\n",
    "print(r2_score(y_test,predict))"
   ]
  },
  {
   "cell_type": "code",
   "execution_count": 25,
   "metadata": {},
   "outputs": [],
   "source": [
    "from sklearn.model_selection import cross_val_score\n",
    "# function to get cross validation scores\n",
    "def get_cv_scores(model):\n",
    "    scores = cross_val_score(model,\n",
    "                             X_train,\n",
    "                             y_train,\n",
    "                             cv=5,\n",
    "                             scoring='r2')\n",
    "    \n",
    "    print('CV Mean: ', np.mean(scores))\n",
    "    print('STD: ', np.std(scores))\n",
    "    print('\\n')"
   ]
  },
  {
   "cell_type": "code",
   "execution_count": 26,
   "metadata": {},
   "outputs": [
    {
     "name": "stdout",
     "output_type": "stream",
     "text": [
      "CV Mean:  0.01430515546480069\n",
      "STD:  0.005911793957261894\n",
      "\n",
      "\n"
     ]
    }
   ],
   "source": [
    "get_cv_scores(model)"
   ]
  },
  {
   "cell_type": "code",
   "execution_count": 28,
   "metadata": {},
   "outputs": [
    {
     "name": "stdout",
     "output_type": "stream",
     "text": [
      "84.78518975041015\n"
     ]
    }
   ],
   "source": [
    "print(reg.intercept_)"
   ]
  },
  {
   "cell_type": "code",
   "execution_count": 29,
   "metadata": {},
   "outputs": [
    {
     "name": "stdout",
     "output_type": "stream",
     "text": [
      "[ 16.1832494   -5.74265125  -4.11614996 -18.2416483   -4.16734578\n",
      "  26.3246758    2.72735897  30.11105166   8.68961995   7.27564912\n",
      "  -6.37660711  -0.68267479   7.10298717  20.36361761]\n"
     ]
    }
   ],
   "source": [
    "print(reg.coef_)"
   ]
  },
  {
   "cell_type": "code",
   "execution_count": null,
   "metadata": {},
   "outputs": [],
   "source": [
    "y_pred = lr.predict(X_test)\n",
    "y_pred.shape"
   ]
  },
  {
   "cell_type": "code",
   "execution_count": null,
   "metadata": {},
   "outputs": [],
   "source": [
    "plt.scatter(y_test, y_pred)\n",
    "plt.ylabel('Predicted')\n",
    "plt.xlabel('Y test')"
   ]
  },
  {
   "cell_type": "code",
   "execution_count": null,
   "metadata": {},
   "outputs": [],
   "source": [
    "sns.distplot((y_test-y_pred))"
   ]
  },
  {
   "cell_type": "code",
   "execution_count": null,
   "metadata": {},
   "outputs": [],
   "source": [
    "pd.DataFrame(lr.coef_ , X.columns, columns=['Coeffecient'])"
   ]
  },
  {
   "cell_type": "code",
   "execution_count": null,
   "metadata": {},
   "outputs": [],
   "source": [
    "X_train.shape"
   ]
  },
  {
   "cell_type": "code",
   "execution_count": null,
   "metadata": {},
   "outputs": [],
   "source": [
    "y_train.shape"
   ]
  },
  {
   "cell_type": "code",
   "execution_count": null,
   "metadata": {},
   "outputs": [],
   "source": [
    "print('Mean Absolute Error:', metrics.mean_absolute_error(y_test, y_pred))\n",
    "print('Mean Squared Error:', metrics.mean_squared_error(y_test, y_pred))\n",
    "print('Root Mean Squared Error:', np.sqrt(metrics.mean_squared_error(y_test, y_pred)))"
   ]
  },
  {
   "cell_type": "code",
   "execution_count": null,
   "metadata": {},
   "outputs": [],
   "source": []
  },
  {
   "cell_type": "code",
   "execution_count": null,
   "metadata": {},
   "outputs": [],
   "source": []
  }
 ],
 "metadata": {
  "kernelspec": {
   "display_name": "Python 3.9.12 ('base')",
   "language": "python",
   "name": "python3"
  },
  "language_info": {
   "codemirror_mode": {
    "name": "ipython",
    "version": 3
   },
   "file_extension": ".py",
   "mimetype": "text/x-python",
   "name": "python",
   "nbconvert_exporter": "python",
   "pygments_lexer": "ipython3",
   "version": "3.9.12"
  },
  "orig_nbformat": 4,
  "vscode": {
   "interpreter": {
    "hash": "54e5ff9351eb7476bd67b0c5a7e6e1e8e0ed43251e97d7aef7855cf4a5cfc793"
   }
  }
 },
 "nbformat": 4,
 "nbformat_minor": 2
}
