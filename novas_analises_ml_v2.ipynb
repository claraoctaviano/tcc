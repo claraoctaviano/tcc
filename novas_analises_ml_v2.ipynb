{
 "cells": [
  {
   "cell_type": "code",
   "execution_count": 1,
   "metadata": {},
   "outputs": [],
   "source": [
    "import pandas as pd\n",
    "import numpy as np\n",
    "import nltk"
   ]
  },
  {
   "cell_type": "code",
   "execution_count": 2,
   "metadata": {},
   "outputs": [],
   "source": [
    "# Carregando o dataset já com os dados de engajamento\n",
    "df_twitter = pd.read_excel(\"tbl_twitter_v2.xlsx\")"
   ]
  },
  {
   "cell_type": "code",
   "execution_count": 3,
   "metadata": {},
   "outputs": [
    {
     "data": {
      "text/html": [
       "<div>\n",
       "<style scoped>\n",
       "    .dataframe tbody tr th:only-of-type {\n",
       "        vertical-align: middle;\n",
       "    }\n",
       "\n",
       "    .dataframe tbody tr th {\n",
       "        vertical-align: top;\n",
       "    }\n",
       "\n",
       "    .dataframe thead th {\n",
       "        text-align: right;\n",
       "    }\n",
       "</style>\n",
       "<table border=\"1\" class=\"dataframe\">\n",
       "  <thead>\n",
       "    <tr style=\"text-align: right;\">\n",
       "      <th></th>\n",
       "      <th>User</th>\n",
       "      <th>Date</th>\n",
       "      <th>Likes</th>\n",
       "      <th>Retweets</th>\n",
       "      <th>Quotes</th>\n",
       "      <th>Replies</th>\n",
       "      <th>Total_Engajamento</th>\n",
       "      <th>Tweet</th>\n",
       "      <th>text_sem_stopwords</th>\n",
       "      <th>tokenized</th>\n",
       "      <th>text_string</th>\n",
       "      <th>Qtd_Caracteres</th>\n",
       "      <th>Politica</th>\n",
       "      <th>Saude</th>\n",
       "      <th>Educacao</th>\n",
       "      <th>Seguranca</th>\n",
       "      <th>Meio Ambiente</th>\n",
       "      <th>Economia</th>\n",
       "      <th>Categoria_Predominante</th>\n",
       "    </tr>\n",
       "  </thead>\n",
       "  <tbody>\n",
       "    <tr>\n",
       "      <th>0</th>\n",
       "      <td>fatooufake</td>\n",
       "      <td>202208</td>\n",
       "      <td>4</td>\n",
       "      <td>0</td>\n",
       "      <td>0</td>\n",
       "      <td>2</td>\n",
       "      <td>8</td>\n",
       "      <td>candidato à reeleição pelo pl participou, nest...</td>\n",
       "      <td>candidato reeleicao pl participou, nesta quart...</td>\n",
       "      <td>['candidato', 'reeleicao', 'pl', 'participou',...</td>\n",
       "      <td>candidato reeleicao participou nesta quarta-fe...</td>\n",
       "      <td>141</td>\n",
       "      <td>4</td>\n",
       "      <td>0</td>\n",
       "      <td>0</td>\n",
       "      <td>0</td>\n",
       "      <td>0</td>\n",
       "      <td>0</td>\n",
       "      <td>POLITICA</td>\n",
       "    </tr>\n",
       "    <tr>\n",
       "      <th>1</th>\n",
       "      <td>fatooufake</td>\n",
       "      <td>202208</td>\n",
       "      <td>7</td>\n",
       "      <td>0</td>\n",
       "      <td>0</td>\n",
       "      <td>1</td>\n",
       "      <td>9</td>\n",
       "      <td>candidato do psdb ao governo do df participou ...</td>\n",
       "      <td>candidato psdb governo df participou serie ent...</td>\n",
       "      <td>['candidato', 'psdb', 'governo', 'df', 'partic...</td>\n",
       "      <td>candidato psdb governo participou serie entrev...</td>\n",
       "      <td>124</td>\n",
       "      <td>3</td>\n",
       "      <td>0</td>\n",
       "      <td>0</td>\n",
       "      <td>0</td>\n",
       "      <td>0</td>\n",
       "      <td>0</td>\n",
       "      <td>POLITICA</td>\n",
       "    </tr>\n",
       "    <tr>\n",
       "      <th>2</th>\n",
       "      <td>fatooufake</td>\n",
       "      <td>202208</td>\n",
       "      <td>7</td>\n",
       "      <td>1</td>\n",
       "      <td>0</td>\n",
       "      <td>1</td>\n",
       "      <td>10</td>\n",
       "      <td>a entrevista foi transmitida ao vivo pela rádi...</td>\n",
       "      <td>entrevista transmitida vivo radio sites redes ...</td>\n",
       "      <td>['entrevista', 'transmitida', 'vivo', 'radio',...</td>\n",
       "      <td>entrevista transmitida vivo radio sites redes ...</td>\n",
       "      <td>108</td>\n",
       "      <td>1</td>\n",
       "      <td>0</td>\n",
       "      <td>0</td>\n",
       "      <td>0</td>\n",
       "      <td>0</td>\n",
       "      <td>0</td>\n",
       "      <td>POLITICA</td>\n",
       "    </tr>\n",
       "    <tr>\n",
       "      <th>3</th>\n",
       "      <td>fatooufake</td>\n",
       "      <td>202208</td>\n",
       "      <td>7</td>\n",
       "      <td>0</td>\n",
       "      <td>0</td>\n",
       "      <td>1</td>\n",
       "      <td>9</td>\n",
       "      <td>frases foram ditas em redes sociais, no horári...</td>\n",
       "      <td>frases ditas redes sociais, horario eleitoral ...</td>\n",
       "      <td>['frases', 'ditas', 'redes', 'sociais', ',', '...</td>\n",
       "      <td>frases ditas redes sociais horario eleitoral e...</td>\n",
       "      <td>112</td>\n",
       "      <td>2</td>\n",
       "      <td>0</td>\n",
       "      <td>0</td>\n",
       "      <td>0</td>\n",
       "      <td>0</td>\n",
       "      <td>0</td>\n",
       "      <td>POLITICA</td>\n",
       "    </tr>\n",
       "    <tr>\n",
       "      <th>4</th>\n",
       "      <td>fatooufake</td>\n",
       "      <td>202208</td>\n",
       "      <td>6</td>\n",
       "      <td>1</td>\n",
       "      <td>0</td>\n",
       "      <td>1</td>\n",
       "      <td>9</td>\n",
       "      <td>candidato ao governo do rio pelo pdt participo...</td>\n",
       "      <td>candidato governo rio pdt participou, nesta se...</td>\n",
       "      <td>['candidato', 'governo', 'rio', 'pdt', 'partic...</td>\n",
       "      <td>candidato governo rio pdt participou nesta seg...</td>\n",
       "      <td>148</td>\n",
       "      <td>3</td>\n",
       "      <td>0</td>\n",
       "      <td>0</td>\n",
       "      <td>0</td>\n",
       "      <td>0</td>\n",
       "      <td>0</td>\n",
       "      <td>POLITICA</td>\n",
       "    </tr>\n",
       "  </tbody>\n",
       "</table>\n",
       "</div>"
      ],
      "text/plain": [
       "         User    Date  Likes  Retweets  Quotes  Replies  Total_Engajamento  \\\n",
       "0  fatooufake  202208      4         0       0        2                  8   \n",
       "1  fatooufake  202208      7         0       0        1                  9   \n",
       "2  fatooufake  202208      7         1       0        1                 10   \n",
       "3  fatooufake  202208      7         0       0        1                  9   \n",
       "4  fatooufake  202208      6         1       0        1                  9   \n",
       "\n",
       "                                               Tweet  \\\n",
       "0  candidato à reeleição pelo pl participou, nest...   \n",
       "1  candidato do psdb ao governo do df participou ...   \n",
       "2  a entrevista foi transmitida ao vivo pela rádi...   \n",
       "3  frases foram ditas em redes sociais, no horári...   \n",
       "4  candidato ao governo do rio pelo pdt participo...   \n",
       "\n",
       "                                  text_sem_stopwords  \\\n",
       "0  candidato reeleicao pl participou, nesta quart...   \n",
       "1  candidato psdb governo df participou serie ent...   \n",
       "2  entrevista transmitida vivo radio sites redes ...   \n",
       "3  frases ditas redes sociais, horario eleitoral ...   \n",
       "4  candidato governo rio pdt participou, nesta se...   \n",
       "\n",
       "                                           tokenized  \\\n",
       "0  ['candidato', 'reeleicao', 'pl', 'participou',...   \n",
       "1  ['candidato', 'psdb', 'governo', 'df', 'partic...   \n",
       "2  ['entrevista', 'transmitida', 'vivo', 'radio',...   \n",
       "3  ['frases', 'ditas', 'redes', 'sociais', ',', '...   \n",
       "4  ['candidato', 'governo', 'rio', 'pdt', 'partic...   \n",
       "\n",
       "                                         text_string  Qtd_Caracteres  \\\n",
       "0  candidato reeleicao participou nesta quarta-fe...             141   \n",
       "1  candidato psdb governo participou serie entrev...             124   \n",
       "2  entrevista transmitida vivo radio sites redes ...             108   \n",
       "3  frases ditas redes sociais horario eleitoral e...             112   \n",
       "4  candidato governo rio pdt participou nesta seg...             148   \n",
       "\n",
       "   Politica  Saude  Educacao  Seguranca  Meio Ambiente  Economia  \\\n",
       "0         4      0         0          0              0         0   \n",
       "1         3      0         0          0              0         0   \n",
       "2         1      0         0          0              0         0   \n",
       "3         2      0         0          0              0         0   \n",
       "4         3      0         0          0              0         0   \n",
       "\n",
       "  Categoria_Predominante  \n",
       "0               POLITICA  \n",
       "1               POLITICA  \n",
       "2               POLITICA  \n",
       "3               POLITICA  \n",
       "4               POLITICA  "
      ]
     },
     "execution_count": 3,
     "metadata": {},
     "output_type": "execute_result"
    }
   ],
   "source": [
    "df_twitter.head(5)"
   ]
  },
  {
   "cell_type": "code",
   "execution_count": 4,
   "metadata": {},
   "outputs": [
    {
     "data": {
      "text/plain": [
       "User             Date  \n",
       "agencialupa      202107    179\n",
       "                 202108    233\n",
       "                 202109    245\n",
       "                 202110    219\n",
       "                 202111    286\n",
       "                 202112    239\n",
       "                 202201    275\n",
       "                 202202    266\n",
       "                 202203    297\n",
       "                 202204    179\n",
       "                 202205    125\n",
       "                 202206    157\n",
       "                 202207    172\n",
       "                 202208    330\n",
       "estadaoverifica  202105     53\n",
       "                 202106     65\n",
       "                 202107     72\n",
       "                 202108     52\n",
       "                 202109     50\n",
       "                 202110     47\n",
       "                 202111     52\n",
       "                 202112     46\n",
       "                 202201     43\n",
       "                 202202     60\n",
       "                 202203     61\n",
       "                 202204     81\n",
       "                 202205     89\n",
       "                 202206     64\n",
       "                 202207     59\n",
       "                 202208     68\n",
       "fatooufake       202005     65\n",
       "                 202006     54\n",
       "                 202007     41\n",
       "                 202008     49\n",
       "                 202009     42\n",
       "                 202010     49\n",
       "                 202011     67\n",
       "                 202012     31\n",
       "                 202101     21\n",
       "                 202102     28\n",
       "                 202103     35\n",
       "                 202104     38\n",
       "                 202105     38\n",
       "                 202106     43\n",
       "                 202107     37\n",
       "                 202108     45\n",
       "                 202109     30\n",
       "                 202110     36\n",
       "                 202111     47\n",
       "                 202112      5\n",
       "                 202201     21\n",
       "                 202202     20\n",
       "                 202203     25\n",
       "                 202204     31\n",
       "                 202205     27\n",
       "                 202206     34\n",
       "                 202207     23\n",
       "                 202208     57\n",
       "uolconfere       202005     16\n",
       "                 202006     21\n",
       "                 202007     43\n",
       "                 202008     50\n",
       "                 202009     60\n",
       "                 202010     63\n",
       "                 202011     66\n",
       "                 202012     13\n",
       "                 202101     10\n",
       "                 202102     14\n",
       "                 202103    150\n",
       "                 202104    167\n",
       "                 202105    169\n",
       "                 202106    127\n",
       "                 202107     74\n",
       "                 202108     66\n",
       "                 202109    120\n",
       "                 202110     97\n",
       "                 202111     76\n",
       "                 202112     45\n",
       "                 202201     49\n",
       "                 202202     78\n",
       "                 202203     47\n",
       "                 202204     83\n",
       "                 202205    100\n",
       "                 202206     42\n",
       "                 202207     39\n",
       "                 202208     53\n",
       "Name: User, dtype: int64"
      ]
     },
     "execution_count": 4,
     "metadata": {},
     "output_type": "execute_result"
    }
   ],
   "source": [
    "# Análise I: agrupado por mês/ano, contando o total de tweets, em cada um dos painéis de checagem\n",
    "pd.set_option(\"display.max_rows\", 100) # aumentando a quantidade de linhas para exibição\n",
    "\n",
    "df_twitter.groupby(by= ['User', 'Date'])['User'].count()"
   ]
  },
  {
   "cell_type": "code",
   "execution_count": 5,
   "metadata": {},
   "outputs": [
    {
     "data": {
      "text/plain": [
       "<AxesSubplot:xlabel='Date'>"
      ]
     },
     "execution_count": 5,
     "metadata": {},
     "output_type": "execute_result"
    },
    {
     "data": {
      "image/png": "[encoded data removed]",
      "text/plain": [
       "<Figure size 432x288 with 1 Axes>"
      ]
     },
     "metadata": {
      "needs_background": "light"
     },
     "output_type": "display_data"
    }
   ],
   "source": [
    "# O volume no tempo\n",
    "df_twitter.groupby(by= 'Date')['User'].count().plot.bar(color=['grey']) # ajustar a ordenação"
   ]
  },
  {
   "cell_type": "code",
   "execution_count": 6,
   "metadata": {},
   "outputs": [
    {
     "data": {
      "text/plain": [
       "User\n",
       "agencialupa        3202\n",
       "estadaoverifica     962\n",
       "fatooufake         1039\n",
       "uolconfere         1938\n",
       "Name: User, dtype: int64"
      ]
     },
     "execution_count": 6,
     "metadata": {},
     "output_type": "execute_result"
    }
   ],
   "source": [
    "# Análise II: observando o total de observações, em cada um dos painéis de checagem\n",
    "df_twitter.groupby(by= 'User')['User'].count()"
   ]
  },
  {
   "cell_type": "code",
   "execution_count": 7,
   "metadata": {},
   "outputs": [
    {
     "data": {
      "text/plain": [
       "Categoria_Predominante\n",
       "POLITICA         2854\n",
       "NEUTRO           1965\n",
       "SAUDE            1804\n",
       "SEGURANCA         285\n",
       "ECONOMIA           97\n",
       "EDUCACAO           76\n",
       "MEIO_AMBIENTE      60\n",
       "Name: User, dtype: int64"
      ]
     },
     "execution_count": 7,
     "metadata": {},
     "output_type": "execute_result"
    }
   ],
   "source": [
    "# Análise III: observando o total de observações, em política\n",
    "df_twitter.groupby(by= 'Categoria_Predominante')['User'].count().sort_values(ascending=False).head(12)"
   ]
  },
  {
   "cell_type": "code",
   "execution_count": 8,
   "metadata": {},
   "outputs": [
    {
     "data": {
      "text/plain": [
       "<AxesSubplot:xlabel='Categoria_Predominante'>"
      ]
     },
     "execution_count": 8,
     "metadata": {},
     "output_type": "execute_result"
    },
    {
     "data": {
      "image/png": "[encoded data removed]",
      "text/plain": [
       "<Figure size 432x288 with 1 Axes>"
      ]
     },
     "metadata": {
      "needs_background": "light"
     },
     "output_type": "display_data"
    }
   ],
   "source": [
    "# O volume no tempo\n",
    "df_twitter.groupby(by= ['Categoria_Predominante'])['User'].count().sort_values(ascending=False).head(12).plot.bar(color=['grey'])"
   ]
  },
  {
   "cell_type": "code",
   "execution_count": 9,
   "metadata": {},
   "outputs": [
    {
     "data": {
      "text/plain": [
       "Categoria_Predominante\n",
       "POLITICA         241152\n",
       "SAUDE            176155\n",
       "NEUTRO           105351\n",
       "SEGURANCA         26226\n",
       "ECONOMIA          22746\n",
       "MEIO_AMBIENTE      6625\n",
       "EDUCACAO           2049\n",
       "Name: Total_Engajamento, dtype: int64"
      ]
     },
     "execution_count": 9,
     "metadata": {},
     "output_type": "execute_result"
    }
   ],
   "source": [
    "# Análise IV: total de engajamento, por categoria\n",
    "df_twitter.groupby(by= 'Categoria_Predominante')['Total_Engajamento'].sum().sort_values(ascending=False)"
   ]
  },
  {
   "cell_type": "code",
   "execution_count": 10,
   "metadata": {},
   "outputs": [
    {
     "data": {
      "text/html": [
       "<div>\n",
       "<style scoped>\n",
       "    .dataframe tbody tr th:only-of-type {\n",
       "        vertical-align: middle;\n",
       "    }\n",
       "\n",
       "    .dataframe tbody tr th {\n",
       "        vertical-align: top;\n",
       "    }\n",
       "\n",
       "    .dataframe thead th {\n",
       "        text-align: right;\n",
       "    }\n",
       "</style>\n",
       "<table border=\"1\" class=\"dataframe\">\n",
       "  <thead>\n",
       "    <tr style=\"text-align: right;\">\n",
       "      <th></th>\n",
       "      <th>Date</th>\n",
       "      <th>Likes</th>\n",
       "      <th>Retweets</th>\n",
       "      <th>Quotes</th>\n",
       "      <th>Replies</th>\n",
       "      <th>Total_Engajamento</th>\n",
       "      <th>Qtd_Caracteres</th>\n",
       "      <th>Politica</th>\n",
       "      <th>Saude</th>\n",
       "      <th>Educacao</th>\n",
       "      <th>Seguranca</th>\n",
       "      <th>Meio Ambiente</th>\n",
       "      <th>Economia</th>\n",
       "    </tr>\n",
       "  </thead>\n",
       "  <tbody>\n",
       "    <tr>\n",
       "      <th>count</th>\n",
       "      <td>7141.000000</td>\n",
       "      <td>7141.000000</td>\n",
       "      <td>7141.000000</td>\n",
       "      <td>7141.000000</td>\n",
       "      <td>7141.000000</td>\n",
       "      <td>7141.000000</td>\n",
       "      <td>7141.000000</td>\n",
       "      <td>7141.000000</td>\n",
       "      <td>7141.000000</td>\n",
       "      <td>7141.000000</td>\n",
       "      <td>7141.000000</td>\n",
       "      <td>7141.000000</td>\n",
       "      <td>7141.000000</td>\n",
       "    </tr>\n",
       "    <tr>\n",
       "      <th>mean</th>\n",
       "      <td>202139.122812</td>\n",
       "      <td>45.190870</td>\n",
       "      <td>10.426131</td>\n",
       "      <td>3.271951</td>\n",
       "      <td>7.915418</td>\n",
       "      <td>81.263689</td>\n",
       "      <td>148.051954</td>\n",
       "      <td>0.958969</td>\n",
       "      <td>0.584792</td>\n",
       "      <td>0.022966</td>\n",
       "      <td>0.100126</td>\n",
       "      <td>0.013303</td>\n",
       "      <td>0.027167</td>\n",
       "    </tr>\n",
       "    <tr>\n",
       "      <th>std</th>\n",
       "      <td>63.477945</td>\n",
       "      <td>167.156473</td>\n",
       "      <td>48.830801</td>\n",
       "      <td>35.965603</td>\n",
       "      <td>69.652238</td>\n",
       "      <td>365.422311</td>\n",
       "      <td>52.103199</td>\n",
       "      <td>1.367232</td>\n",
       "      <td>1.121593</td>\n",
       "      <td>0.171594</td>\n",
       "      <td>0.361178</td>\n",
       "      <td>0.136860</td>\n",
       "      <td>0.203171</td>\n",
       "    </tr>\n",
       "    <tr>\n",
       "      <th>min</th>\n",
       "      <td>202005.000000</td>\n",
       "      <td>0.000000</td>\n",
       "      <td>0.000000</td>\n",
       "      <td>0.000000</td>\n",
       "      <td>0.000000</td>\n",
       "      <td>0.000000</td>\n",
       "      <td>15.000000</td>\n",
       "      <td>0.000000</td>\n",
       "      <td>0.000000</td>\n",
       "      <td>0.000000</td>\n",
       "      <td>0.000000</td>\n",
       "      <td>0.000000</td>\n",
       "      <td>0.000000</td>\n",
       "    </tr>\n",
       "    <tr>\n",
       "      <th>25%</th>\n",
       "      <td>202107.000000</td>\n",
       "      <td>4.000000</td>\n",
       "      <td>0.000000</td>\n",
       "      <td>0.000000</td>\n",
       "      <td>1.000000</td>\n",
       "      <td>6.000000</td>\n",
       "      <td>100.000000</td>\n",
       "      <td>0.000000</td>\n",
       "      <td>0.000000</td>\n",
       "      <td>0.000000</td>\n",
       "      <td>0.000000</td>\n",
       "      <td>0.000000</td>\n",
       "      <td>0.000000</td>\n",
       "    </tr>\n",
       "    <tr>\n",
       "      <th>50%</th>\n",
       "      <td>202111.000000</td>\n",
       "      <td>11.000000</td>\n",
       "      <td>2.000000</td>\n",
       "      <td>0.000000</td>\n",
       "      <td>1.000000</td>\n",
       "      <td>16.000000</td>\n",
       "      <td>142.000000</td>\n",
       "      <td>0.000000</td>\n",
       "      <td>0.000000</td>\n",
       "      <td>0.000000</td>\n",
       "      <td>0.000000</td>\n",
       "      <td>0.000000</td>\n",
       "      <td>0.000000</td>\n",
       "    </tr>\n",
       "    <tr>\n",
       "      <th>75%</th>\n",
       "      <td>202204.000000</td>\n",
       "      <td>34.000000</td>\n",
       "      <td>8.000000</td>\n",
       "      <td>1.000000</td>\n",
       "      <td>3.000000</td>\n",
       "      <td>53.000000</td>\n",
       "      <td>194.000000</td>\n",
       "      <td>1.000000</td>\n",
       "      <td>1.000000</td>\n",
       "      <td>0.000000</td>\n",
       "      <td>0.000000</td>\n",
       "      <td>0.000000</td>\n",
       "      <td>0.000000</td>\n",
       "    </tr>\n",
       "    <tr>\n",
       "      <th>max</th>\n",
       "      <td>202208.000000</td>\n",
       "      <td>6349.000000</td>\n",
       "      <td>1849.000000</td>\n",
       "      <td>2176.000000</td>\n",
       "      <td>4419.000000</td>\n",
       "      <td>12817.000000</td>\n",
       "      <td>335.000000</td>\n",
       "      <td>10.000000</td>\n",
       "      <td>8.000000</td>\n",
       "      <td>3.000000</td>\n",
       "      <td>7.000000</td>\n",
       "      <td>3.000000</td>\n",
       "      <td>4.000000</td>\n",
       "    </tr>\n",
       "  </tbody>\n",
       "</table>\n",
       "</div>"
      ],
      "text/plain": [
       "                Date        Likes     Retweets       Quotes      Replies  \\\n",
       "count    7141.000000  7141.000000  7141.000000  7141.000000  7141.000000   \n",
       "mean   202139.122812    45.190870    10.426131     3.271951     7.915418   \n",
       "std        63.477945   167.156473    48.830801    35.965603    69.652238   \n",
       "min    202005.000000     0.000000     0.000000     0.000000     0.000000   \n",
       "25%    202107.000000     4.000000     0.000000     0.000000     1.000000   \n",
       "50%    202111.000000    11.000000     2.000000     0.000000     1.000000   \n",
       "75%    202204.000000    34.000000     8.000000     1.000000     3.000000   \n",
       "max    202208.000000  6349.000000  1849.000000  2176.000000  4419.000000   \n",
       "\n",
       "       Total_Engajamento  Qtd_Caracteres     Politica        Saude  \\\n",
       "count        7141.000000     7141.000000  7141.000000  7141.000000   \n",
       "mean           81.263689      148.051954     0.958969     0.584792   \n",
       "std           365.422311       52.103199     1.367232     1.121593   \n",
       "min             0.000000       15.000000     0.000000     0.000000   \n",
       "25%             6.000000      100.000000     0.000000     0.000000   \n",
       "50%            16.000000      142.000000     0.000000     0.000000   \n",
       "75%            53.000000      194.000000     1.000000     1.000000   \n",
       "max         12817.000000      335.000000    10.000000     8.000000   \n",
       "\n",
       "          Educacao    Seguranca  Meio Ambiente     Economia  \n",
       "count  7141.000000  7141.000000    7141.000000  7141.000000  \n",
       "mean      0.022966     0.100126       0.013303     0.027167  \n",
       "std       0.171594     0.361178       0.136860     0.203171  \n",
       "min       0.000000     0.000000       0.000000     0.000000  \n",
       "25%       0.000000     0.000000       0.000000     0.000000  \n",
       "50%       0.000000     0.000000       0.000000     0.000000  \n",
       "75%       0.000000     0.000000       0.000000     0.000000  \n",
       "max       3.000000     7.000000       3.000000     4.000000  "
      ]
     },
     "execution_count": 10,
     "metadata": {},
     "output_type": "execute_result"
    }
   ],
   "source": [
    "# Análise IV: análise descritiva das categóricas\n",
    "df_twitter.describe()"
   ]
  },
  {
   "cell_type": "code",
   "execution_count": 11,
   "metadata": {},
   "outputs": [
    {
     "name": "stderr",
     "output_type": "stream",
     "text": [
      "C:\\Users\\clara\\AppData\\Local\\Temp\\ipykernel_42828\\1148948248.py:2: FutureWarning: Indexing with multiple keys (implicitly converted to a tuple of keys) will be deprecated, use a list instead.\n",
      "  df_analysis = df_twitter.groupby('Categoria_Predominante')['Likes', 'Retweets', 'Quotes', 'Replies', 'Total_Engajamento', 'Qtd_Caracteres'].describe()\n"
     ]
    }
   ],
   "source": [
    "# Análise V: análise dos percentis, dentro das Categorias Predominantes\n",
    "df_analysis = df_twitter.groupby('Categoria_Predominante')['Likes', 'Retweets', 'Quotes', 'Replies', 'Total_Engajamento', 'Qtd_Caracteres'].describe()\n",
    "df_analysis.to_excel(\"Resultado_Analise_Descritiva_Categoria_Predominante.xlsx\")"
   ]
  },
  {
   "cell_type": "code",
   "execution_count": 12,
   "metadata": {},
   "outputs": [
    {
     "data": {
      "text/plain": [
       "Economia\n",
       "0    6985\n",
       "1     130\n",
       "2      17\n",
       "3       6\n",
       "4       3\n",
       "Name: User, dtype: int64"
      ]
     },
     "execution_count": 12,
     "metadata": {},
     "output_type": "execute_result"
    }
   ],
   "source": [
    "# Análise III: observando o total de observações, em economia\n",
    "df_twitter.groupby(by= ['Economia'])['User'].count()"
   ]
  },
  {
   "cell_type": "code",
   "execution_count": 13,
   "metadata": {},
   "outputs": [
    {
     "data": {
      "text/plain": [
       "<AxesSubplot:xlabel='Date'>"
      ]
     },
     "execution_count": 13,
     "metadata": {},
     "output_type": "execute_result"
    },
    {
     "data": {
      "image/png": "[encoded data removed]",
      "text/plain": [
       "<Figure size 432x288 with 1 Axes>"
      ]
     },
     "metadata": {
      "needs_background": "light"
     },
     "output_type": "display_data"
    }
   ],
   "source": [
    "# O volume no tempo, para categoria POLÍTICA\n",
    "df_politica = df_twitter[df_twitter['Categoria_Predominante']=='POLITICA']\n",
    "df_politica.groupby(by= ['Date'])['User'].count().plot.bar(color=['grey'])"
   ]
  },
  {
   "cell_type": "code",
   "execution_count": 14,
   "metadata": {},
   "outputs": [
    {
     "data": {
      "text/plain": [
       "<AxesSubplot:xlabel='Date'>"
      ]
     },
     "execution_count": 14,
     "metadata": {},
     "output_type": "execute_result"
    },
    {
     "data": {
      "image/png": "[encoded data removed]",
      "text/plain": [
       "<Figure size 432x288 with 1 Axes>"
      ]
     },
     "metadata": {
      "needs_background": "light"
     },
     "output_type": "display_data"
    }
   ],
   "source": [
    "# O volume no tempo, para categoria SAÚDE\n",
    "df_saude = df_twitter[df_twitter['Categoria_Predominante']=='SAUDE']\n",
    "df_saude.groupby(by= ['Date'])['User'].count().plot.bar(color=['grey'])"
   ]
  },
  {
   "cell_type": "code",
   "execution_count": null,
   "metadata": {},
   "outputs": [],
   "source": []
  }
 ],
 "metadata": {
  "kernelspec": {
   "display_name": "Python 3.9.12 ('base')",
   "language": "python",
   "name": "python3"
  },
  "language_info": {
   "codemirror_mode": {
    "name": "ipython",
    "version": 3
   },
   "file_extension": ".py",
   "mimetype": "text/x-python",
   "name": "python",
   "nbconvert_exporter": "python",
   "pygments_lexer": "ipython3",
   "version": "3.9.12"
  },
  "orig_nbformat": 4,
  "vscode": {
   "interpreter": {
    "hash": "54e5ff9351eb7476bd67b0c5a7e6e1e8e0ed43251e97d7aef7855cf4a5cfc793"
   }
  }
 },
 "nbformat": 4,
 "nbformat_minor": 2
}
